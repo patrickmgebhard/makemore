{
 "cells": [
  {
   "attachments": {},
   "cell_type": "markdown",
   "metadata": {},
   "source": [
    "Problem: I'm not so confident in my understanding, because I couldn't explain this stuff easily to someone else. Okay, so try to solve it in a way that you actually understand what's going on and then be able to play around with it. So, take 1 example and then do the following:\n",
    "- construct a simple neural net (MLP???)\n",
    "- implement loss function\n",
    "- implement backprop\n",
    "- implement training\n",
    "- use better learning rate\n",
    "- optimize initial loss\n",
    "- use batch normalization\n",
    "- experiment with larger hidden layer\n"
   ]
  }
 ],
 "metadata": {
  "language_info": {
   "name": "python"
  },
  "orig_nbformat": 4
 },
 "nbformat": 4,
 "nbformat_minor": 2
}
