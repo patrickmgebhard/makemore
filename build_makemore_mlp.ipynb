{
 "cells": [
  {
   "attachments": {},
   "cell_type": "markdown",
   "metadata": {},
   "source": [
    "Implementing an MLP\n",
    "\n",
    "Paper this is based on https://www.jmlr.org/papers/volume3/bengio03a/bengio03a.pdf\n",
    "\n",
    "Approach:\n",
    "-we embed all 17,000 words in a 30-dimensional vector; these embeddings are put in a (17000, 30) lookup table C\n",
    "-the embeddings are initialized randomly\n"
   ]
  }
 ],
 "metadata": {
  "language_info": {
   "name": "python"
  },
  "orig_nbformat": 4
 },
 "nbformat": 4,
 "nbformat_minor": 2
}
